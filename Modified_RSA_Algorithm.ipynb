{
  "nbformat": 4,
  "nbformat_minor": 0,
  "metadata": {
    "colab": {
      "name": "Modified RSA Algorithm ",
      "provenance": []
    },
    "kernelspec": {
      "name": "python3",
      "display_name": "Python 3"
    },
    "accelerator": "GPU"
  },
  "cells": [
    {
      "cell_type": "code",
      "metadata": {
        "id": "LLRrAzGBDFQx"
      },
      "source": [
        "import random\n",
        "import pandas as pd"
      ],
      "execution_count": 13,
      "outputs": []
    },
    {
      "cell_type": "code",
      "metadata": {
        "id": "mFdzm1AEDQ5-"
      },
      "source": [
        "def gcd(a, b):\n",
        "    while b != 0:\n",
        "        a, b = b, a % b\n",
        "    return a"
      ],
      "execution_count": 14,
      "outputs": []
    },
    {
      "cell_type": "code",
      "metadata": {
        "id": "8YR-Aw8ZDTL2"
      },
      "source": [
        "def is_prime(num):\n",
        "    if num == 2:\n",
        "        return True\n",
        "    if num < 2 or num % 2 == 0:\n",
        "        return False\n",
        "    for n in range(3, int(num**0.5)+2, 2):\n",
        "        if num % n == 0:\n",
        "            return False\n",
        "    return True"
      ],
      "execution_count": 15,
      "outputs": []
    },
    {
      "cell_type": "code",
      "metadata": {
        "id": "K8GcH-MXDVjB"
      },
      "source": [
        "def multiplicative_inverse(e, phi):\n",
        "    d = 0\n",
        "    x1 = 0\n",
        "    x2 = 1\n",
        "    y1 = 1\n",
        "    temp_phi = phi\n",
        "    \n",
        "    while e > 0:\n",
        "        temp1 = (int)(temp_phi/e)\n",
        "        temp2 = temp_phi - temp1 * e\n",
        "        temp_phi = e\n",
        "        e = temp2\n",
        "        \n",
        "        x = x2- temp1* x1\n",
        "        y = d - temp1 * y1\n",
        "        \n",
        "        x2 = x1\n",
        "        x1 = x\n",
        "        d = y1\n",
        "        y1 = y\n",
        "    \n",
        "    if temp_phi == 1:\n",
        "        return d + phi"
      ],
      "execution_count": 16,
      "outputs": []
    },
    {
      "cell_type": "code",
      "metadata": {
        "id": "NCzZD38KDajd"
      },
      "source": [
        "def generate_keypair(a, b, c):\n",
        "    if not (is_prime(a) and is_prime(b)):\n",
        "        raise ValueError('Both numbers must be prime.')\n",
        "    elif a == b:\n",
        "        raise ValueError('a and b cannot be equal')\n",
        "    #N = abc\n",
        "    n = a * b * c\n",
        "\n",
        "    #Phi is the totient of n\n",
        "    phi = (a-1) * (b-1) * (c-1)\n",
        "\n",
        "    #Choose an integer e such that e and phi(n) are coprime\n",
        "    X= random.randrange(1, phi)\n",
        "\n",
        "    #Use Euclid's Algorithm to verify that e and phi(n) are comprime\n",
        "    g = gcd(X, phi)\n",
        "    \n",
        "    while g != 1:\n",
        "        X = random.randrange(1, phi)\n",
        "        g = gcd(X, phi)    \n",
        "        \n",
        "    #Use Extended Euclid's Algorithm to generate the private key\n",
        "    D = multiplicative_inverse(X, phi)\n",
        "    \n",
        "    #Return public and private keypair\n",
        "    #Public key is (X, n) and private key is (D, n)\n",
        "    return ((X, n), (D, n), phi)\n"
      ],
      "execution_count": 17,
      "outputs": []
    },
    {
      "cell_type": "code",
      "metadata": {
        "id": "ugb7pBnSDf3M"
      },
      "source": [
        "def encrypt(plaintext):\n",
        "    data1 = pd.read_csv(\"data1.csv\") \n",
        "    data2 = pd.read_csv(\"data2.csv\")\n",
        "\n",
        "    key = int(data2['0'][1]) # X\n",
        "    n = int(data1['0'][3])\n",
        "\n",
        "\n",
        "    #Convert each letter in the plaintext to numbers based on the character using a^b mod m\n",
        "    cipher = [(ord(char) ** int(key)) % n for char in plaintext]\n",
        "    #Return the array of bytes\n",
        "    return cipher"
      ],
      "execution_count": 18,
      "outputs": []
    },
    {
      "cell_type": "code",
      "metadata": {
        "id": "6egZUsCwDyUE"
      },
      "source": [
        "def decrypt(ciphertext):\n",
        "    data1 = pd.read_csv(\"data1.csv\")\n",
        "    data2 = pd.read_csv(\"data2.csv\")\n",
        "\n",
        "    key = int(data2['0'][2]) # D\n",
        "    n = int(data1['0'][3])\n",
        "\n",
        "    #Generate the plaintext based on the ciphertext and key using a^b mod m\n",
        "    plain = [chr((char ** key) % n) for char in ciphertext]\n",
        "    #Return the array of bytes as a string\n",
        "    return ''.join(plain)\n",
        "    "
      ],
      "execution_count": 19,
      "outputs": []
    },
    {
      "cell_type": "code",
      "metadata": {
        "colab": {
          "base_uri": "https://localhost:8080/"
        },
        "id": "lk4974a_D1ER",
        "outputId": "fd6fd03b-c6ff-4ef9-e552-9bc2ab2a597a"
      },
      "source": [
        "if __name__ == '__main__':\n",
        "    '''\n",
        "    Detect if the script is being run directly by the user\n",
        "    '''\n",
        "    print(\"---------------------------------------------------------------------------------------------\")\n",
        "    print(\"Cryptography Mc-407\")\n",
        "    print(\"Topic: Implementation of Modified RSA cryptosystem .\")\n",
        "    print(\"Members:\\nManish Wadhwani 2K17MC64\")\n",
        "    print(\"---------------------------------------------------------------------------------------------\")\n",
        "\n",
        "    print(\"\\n\\nModified RSA Encrypter/ Decrypter\")\n",
        "\n",
        "    primes=[]\n",
        "    total_no_primes = 0\n",
        "    with open('primes.txt') as pfile:\n",
        "        for line in pfile:\n",
        "            primes.append(int(line)) # = [int(i) for i in line.split()]\n",
        "            total_no_primes += 1\n",
        "    a = primes[random.randint(1, total_no_primes-1)]\n",
        "    b = primes[random.randint(1, total_no_primes-1)]\n",
        "    c = primes[random.randint(1, total_no_primes-1)]\n",
        "\n",
        "\n",
        "    print(\"Generating your public/private keypairs now . . .\")\n",
        "    public, private, phi = generate_keypair(a, b, c)\n",
        "    print(\"\\nYour public key is \", public ,\" and your private key is \", private)\n",
        "\n",
        "    data1 = [a, b, phi, public[1]]  #  a, b, phi, n\n",
        "    df = pd.DataFrame(data1)\n",
        "    df.to_csv('data1.csv') # offline storage of a, b, phi, n in table 1\n",
        "\n",
        "    data2 = [c, public[0], private[0]] #  c, X, D\n",
        "    df = pd.DataFrame(data2)\n",
        "    df.to_csv('data2.csv') #offline storage of c, X, D in table 2\n",
        "\n",
        "    message = input(\"\\nEnter a message to encrypt with your public key: \")\n",
        "    encrypted_msg = encrypt(message)\n",
        "    print(\"\\nYour encrypted message is: \")\n",
        "    print(''.join([str(x) for x in encrypted_msg]))\n",
        "    print(\"\\nDecrypting message with private key \", private ,\" . . .\")\n",
        "    print(\"\\nYour message is:\")\n",
        "    print(decrypt(encrypted_msg))"
      ],
      "execution_count": 20,
      "outputs": [
        {
          "output_type": "stream",
          "text": [
            "---------------------------------------------------------------------------------------------\n",
            "Cryptography Mc-407\n",
            "Topic: Implementation of Modified RSA cryptosystem .\n",
            "Members:\n",
            "Manish Wadhwani 2K17MC64\n",
            "---------------------------------------------------------------------------------------------\n",
            "\n",
            "\n",
            "Modified RSA Encrypter/ Decrypter\n",
            "Generating your public/private keypairs now . . .\n",
            "\n",
            "Your public key is  (123455, 142117)  and your private key is  (166271, 142117)\n",
            "\n",
            "Enter a message to encrypt with your public key: Manish\n",
            "\n",
            "Your encrypted message is: \n",
            "12327558119150211101552421951825\n",
            "\n",
            "Decrypting message with private key  (166271, 142117)  . . .\n",
            "\n",
            "Your message is:\n",
            "Manish\n"
          ],
          "name": "stdout"
        }
      ]
    },
    {
      "cell_type": "code",
      "metadata": {
        "id": "1lFtjoVBHJd4"
      },
      "source": [
        ""
      ],
      "execution_count": null,
      "outputs": []
    },
    {
      "cell_type": "code",
      "metadata": {
        "id": "9feL-pg4UPEa"
      },
      "source": [
        "from google.colab import drive\n",
        "drive.mount('/content/drive')"
      ],
      "execution_count": null,
      "outputs": []
    }
  ]
}